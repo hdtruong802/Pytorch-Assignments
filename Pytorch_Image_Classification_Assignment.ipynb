{
  "nbformat": 4,
  "nbformat_minor": 0,
  "metadata": {
    "colab": {
      "provenance": [],
      "machine_shape": "hm",
      "gpuType": "T4",
      "include_colab_link": true
    },
    "kernelspec": {
      "name": "python3",
      "display_name": "Python 3"
    },
    "language_info": {
      "name": "python"
    },
    "accelerator": "GPU"
  },
  "cells": [
    {
      "cell_type": "markdown",
      "metadata": {
        "id": "view-in-github",
        "colab_type": "text"
      },
      "source": [
        "<a href=\"https://colab.research.google.com/github/hdtruong802/Pytorch-Assignments/blob/main/Pytorch_Image_Classification_Assignment.ipynb\" target=\"_parent\"><img src=\"https://colab.research.google.com/assets/colab-badge.svg\" alt=\"Open In Colab\"/></a>"
      ]
    },
    {
      "cell_type": "markdown",
      "source": [
        "# Bài tập lập trình: Thực hành lập trình phân loại hình ảnh\n",
        "```\n",
        "ProtonX - Pytorch Class\n",
        "```\n",
        "\n",
        "### Hướng dẫn làm bài\n",
        "- Trong bài tập này bạn sẽ sử dụng Python 3.\n",
        "- Sau khi bạn viết Code của mình xong, hãy chạy dòng Code đó để xem kết quả bên dưới.\n",
        "\n",
        "### [Quan trọng] Chú ý\n",
        "- **Không sử dụng hàm `input()` tại bất kỳ dòng lệnh nào**\n",
        "- **Không thay đổi dòng code return của hàm**\n",
        "\n",
        "Các bạn sẽ thực hiện `code` trong các phần hiển thị `#TODO: Lập trình tại đây` và thay thế các vị trí `None`. Có những câu hỏi chỉ cần trả về đáp án.\n",
        "\n",
        "Sau khi viết xong Code của bạn, bạn hãy ấn \"SHIFT\"+\"ENTER\" để thực hiện chạy lệnh của Cell đó.\n",
        "\n",
        "---\n",
        "Điểm số:\n",
        "* 10 điểm / Câu\n",
        "\n",
        "Tiêu chí chấm điểm:\n",
        "* Các bài tập sẽ được chấm dựa trên các Test-case.\n",
        "* Các bạn không khởi tạo lại giá trị đầu vào bên trong hàm. Có thể khởi tạo các giá trị này ngoài hàm nhằm mục đích kiểm thử."
      ],
      "metadata": {
        "id": "HY33FFQWVTDy"
      }
    },
    {
      "cell_type": "code",
      "execution_count": null,
      "metadata": {
        "id": "23wtK2kJYcR2"
      },
      "outputs": [],
      "source": [
        "import torch\n",
        "import torch.nn as nn\n",
        "import torch.optim as optim\n",
        "import torchvision\n",
        "import torchvision.transforms as transforms\n",
        "from torch.utils.data import DataLoader"
      ]
    },
    {
      "cell_type": "markdown",
      "source": [
        "### 1. Mô hình CNN đơn giản\n",
        "Kiến trúc mô hình CNN với\n",
        "- Phép tích chập với 64 bộ lọc cỡ (3, 3)\n",
        "- Phép maxpool với cỡ bộ lọc (2, 2) bước nhảy 2\n",
        "- Mô hình phân loại đầu ra là 10"
      ],
      "metadata": {
        "id": "dbRLMWZBbVrN"
      }
    },
    {
      "cell_type": "code",
      "source": [
        "# Thiết kế kiến trúc mạng CNN đơn giản\n",
        "class SimpleCNN(nn.Module):\n",
        "    def __init__(self):\n",
        "        super(SimpleCNN, self).__init__()\n",
        "        # TODO 1: Định nghĩa phép tích chập\n",
        "        self.conv1 = nn.Conv2d(in_channels=3, out_channels=64, kernel_size=3, padding=1)\n",
        "        # TODO 2: Định nghĩa phép RELU\n",
        "        self.relu = nn.ReLU()\n",
        "        # TODO 3: Định nghĩa phép Maxpool\n",
        "        self.pool = nn.MaxPool2d(kernel_size=2, stride=2)\n",
        "        # TODO 4: Định nghĩa lớp nhân tuyến tính\n",
        "        self.fc1 = nn.Linear(64 * 16 * 16,10)\n",
        "\n",
        "    def forward(self, x):\n",
        "        # TODO 5: Tính toán đầu ra của lớp tích chập\n",
        "        x = self.conv1(x)\n",
        "        x = self.relu(x)\n",
        "        x = self.pool(x)\n",
        "        # TODO 6: Tiến hành duỗi feature map\n",
        "        x = x.view(-1, 64 * 16 * 16)\n",
        "        # TODO 7: Đưa qua lớp nhân tuyến tính\n",
        "        x = self.fc1(x)\n",
        "        return x"
      ],
      "metadata": {
        "id": "Uay5BvcabS3U"
      },
      "execution_count": null,
      "outputs": []
    },
    {
      "cell_type": "markdown",
      "source": [
        "**Code đánh giá lập trình mô hình**"
      ],
      "metadata": {
        "id": "hQaJXR69epnh"
      }
    },
    {
      "cell_type": "code",
      "source": [
        "import torch\n",
        "import unittest\n",
        "\n",
        "class TestSimpleCNN(unittest.TestCase):\n",
        "    def setUp(self):\n",
        "        self.model = SimpleCNN()\n",
        "\n",
        "    def test_forward_pass(self):\n",
        "        # Kiểm thử forward pass với input ngẫu nhiên\n",
        "        random_input = torch.randn(1, 3, 32, 32)  # Giả sử kích thước input là (batch_size, channels, height, width)\n",
        "        output = self.model(random_input)\n",
        "        self.assertEqual(output.shape, (1, 10))  # Điều chỉnh kích thước output dựa trên kiến trúc của mô hình\n",
        "\n",
        "    def test_conv_layer(self):\n",
        "        # Kiểm thử sự hiện diện của layer convolutional trong mô hình\n",
        "        conv_layers = [module for module in self.model.modules() if isinstance(module, torch.nn.Conv2d)]\n",
        "        self.assertTrue(len(conv_layers) > 0)\n",
        "\n",
        "    def test_relu_layer(self):\n",
        "        # Kiểm thử sự hiện diện của layer kích hoạt ReLU trong mô hình\n",
        "        relu_layers = [module for module in self.model.modules() if isinstance(module, torch.nn.ReLU)]\n",
        "        self.assertTrue(len(relu_layers) > 0)\n",
        "\n",
        "    def test_pooling_layer(self):\n",
        "        # Kiểm thử sự hiện diện của layer pooling trong mô hình\n",
        "        pool_layers = [module for module in self.model.modules() if isinstance(module, torch.nn.MaxPool2d)]\n",
        "        self.assertTrue(len(pool_layers) > 0)\n",
        "\n",
        "    def test_fc_layer(self):\n",
        "        # Kiểm thử sự hiện diện của layer fully connected trong mô hình\n",
        "        fc_layers = [module for module in self.model.modules() if isinstance(module, torch.nn.Linear)]\n",
        "        self.assertTrue(len(fc_layers) > 0)\n",
        "\n",
        "    def test_output_size(self):\n",
        "        # Kiểm thử kích thước output của layer fully connected\n",
        "        dummy_input = torch.randn(1, 3, 32, 32)  # Giả sử kích thước input là (batch_size, channels, height, width)\n",
        "        output = self.model(dummy_input)\n",
        "        expected_output_size = (1, 10)  # Điều chỉnh kích thước output dựa trên kiến trúc của mô hình\n",
        "        self.assertEqual(output.shape, expected_output_size)\n",
        "\n",
        "    def test_conv1_weights_shape(self):\n",
        "        # Kiểm thử hình dạng của trọng số layer conv1\n",
        "        expected_shape = (64, 3, 3, 3)  # (out_channels, in_channels, kernel_size[0], kernel_size[1])\n",
        "        actual_shape = tuple(self.model.conv1.weight.shape)\n",
        "        self.assertEqual(expected_shape, actual_shape)\n",
        "\n",
        "    def test_conv1_forward_pass(self):\n",
        "        # Kiểm thử forward pass qua layer conv1\n",
        "        input_tensor = torch.randn(1, 3, 32, 32)  # Batch size là 1, 3 channels, kích thước hình ảnh 32x32\n",
        "        output_tensor = self.model.conv1(input_tensor)\n",
        "        self.assertEqual(output_tensor.shape[1], 64)  # Kiểm tra số lượng channels đầu ra\n",
        "        self.assertEqual(output_tensor.shape[2], 32)  # Kiểm tra chiều cao của tensor đầu ra\n",
        "        self.assertEqual(output_tensor.shape[3], 32)  # Kiểm tra chiều rộng của tensor đầu ra\n",
        "\n",
        "    def test_train_on_batch(self):\n",
        "        # Kiểm thử việc huấn luyện trên một batch với input và nhãn ngẫu nhiên\n",
        "        random_input = torch.randn(32, 3, 32, 32)  # Giả sử batch size là 32\n",
        "        random_labels = torch.randint(0, 10, (32,))  # Giả sử có 10 classes\n",
        "        criterion = torch.nn.CrossEntropyLoss()\n",
        "        optimizer = torch.optim.Adam(self.model.parameters(), lr=0.001)\n",
        "\n",
        "        # Bước huấn luyện\n",
        "        optimizer.zero_grad()\n",
        "        outputs = self.model(random_input)\n",
        "        loss = criterion(outputs, random_labels)\n",
        "        loss.backward()\n",
        "        optimizer.step()\n",
        "\n",
        "        # Kiểm tra rằng loss là một tensor hợp lệ\n",
        "        self.assertIsInstance(loss, torch.Tensor)\n",
        "\n",
        "        # Kiểm tra rằng giá trị loss nằm trong khoảng chấp nhận được (bạn có thể điều chỉnh ngưỡng)\n",
        "        self.assertTrue(0 <= loss.item() < 10)\n",
        "\n",
        "\n",
        "\n",
        "suite = unittest.TestLoader().loadTestsFromTestCase(TestSimpleCNN)\n",
        "unittest.TextTestRunner(verbosity=2).run(suite)"
      ],
      "metadata": {
        "colab": {
          "base_uri": "https://localhost:8080/"
        },
        "id": "K1ATav2kd_9v",
        "outputId": "55441918-db05-47d5-fa83-df8bb4a5ccc8"
      },
      "execution_count": null,
      "outputs": [
        {
          "output_type": "stream",
          "name": "stderr",
          "text": [
            "test_conv1_forward_pass (__main__.TestSimpleCNN) ... ok\n",
            "test_conv1_weights_shape (__main__.TestSimpleCNN) ... ok\n",
            "test_conv_layer (__main__.TestSimpleCNN) ... ok\n",
            "test_fc_layer (__main__.TestSimpleCNN) ... ok\n",
            "test_forward_pass (__main__.TestSimpleCNN) ... ok\n",
            "test_output_size (__main__.TestSimpleCNN) ... ok\n",
            "test_pooling_layer (__main__.TestSimpleCNN) ... ok\n",
            "test_relu_layer (__main__.TestSimpleCNN) ... ok\n",
            "test_train_on_batch (__main__.TestSimpleCNN) ... ok\n",
            "\n",
            "----------------------------------------------------------------------\n",
            "Ran 9 tests in 0.236s\n",
            "\n",
            "OK\n"
          ]
        },
        {
          "output_type": "execute_result",
          "data": {
            "text/plain": [
              "<unittest.runner.TextTestResult run=9 errors=0 failures=0>"
            ]
          },
          "metadata": {},
          "execution_count": 6
        }
      ]
    },
    {
      "cell_type": "markdown",
      "source": [
        "Kết quả mong đợi\n",
        "\n",
        "```python\n",
        "test_conv1_forward_pass (__main__.TestSimpleCNN) ... ok\n",
        "test_conv1_weights_shape (__main__.TestSimpleCNN) ... ok\n",
        "test_conv_layer (__main__.TestSimpleCNN) ... ok\n",
        "test_fc_layer (__main__.TestSimpleCNN) ... ok\n",
        "test_forward_pass (__main__.TestSimpleCNN) ... ok\n",
        "test_output_size (__main__.TestSimpleCNN) ... ok\n",
        "test_pooling_layer (__main__.TestSimpleCNN) ... ok\n",
        "test_relu_layer (__main__.TestSimpleCNN) ... ok\n",
        "test_train_on_batch (__main__.TestSimpleCNN) ... ok\n",
        "\n",
        "----------------------------------------------------------------------\n",
        "Ran 9 tests in 0.058s\n",
        "\n",
        "OK\n",
        "<unittest.runner.TextTestResult run=9 errors=0 failures=0>\n",
        "```"
      ],
      "metadata": {
        "id": "A2WbDMPRetkS"
      }
    },
    {
      "cell_type": "code",
      "source": [
        "# TODO 8: Lập trình hàm transform\n",
        "# Thêm một số chuẩn hóa bất kỳ\n",
        "transform = transforms.Compose([\n",
        "    transforms.ToTensor(),\n",
        "    transforms.Normalize((0.5, 0.5, 0.5), (0.5, 0.5, 0.5))\n",
        "])\n",
        "\n",
        "# Tải về và tiền xử lý bộ dữ liệu CIFAR-10\n",
        "train_dataset = torchvision.datasets.CIFAR10(root='./data', train=True, download=True, transform=transform)\n",
        "test_dataset = torchvision.datasets.CIFAR10(root='./data', train=False, download=True, transform=transform)\n",
        "\n",
        "# Khởi tạo Dataloader với tập train\n",
        "train_loader = DataLoader(train_dataset, batch_size=64, shuffle=True)\n",
        "\n",
        "# Khởi tạo Dataloader với tập train\n",
        "test_loader = DataLoader(test_dataset, batch_size=64, shuffle=False)\n",
        "\n",
        "# Khởi tạo mô hình\n",
        "model = SimpleCNN()"
      ],
      "metadata": {
        "colab": {
          "base_uri": "https://localhost:8080/"
        },
        "id": "xINQGgE1bUIy",
        "outputId": "ccee2320-03b1-4058-de5e-f5914ab8b779"
      },
      "execution_count": null,
      "outputs": [
        {
          "output_type": "stream",
          "name": "stdout",
          "text": [
            "Downloading https://www.cs.toronto.edu/~kriz/cifar-10-python.tar.gz to ./data/cifar-10-python.tar.gz\n"
          ]
        },
        {
          "output_type": "stream",
          "name": "stderr",
          "text": [
            "100%|██████████| 170498071/170498071 [00:01<00:00, 97617170.13it/s] \n"
          ]
        },
        {
          "output_type": "stream",
          "name": "stdout",
          "text": [
            "Extracting ./data/cifar-10-python.tar.gz to ./data\n",
            "Files already downloaded and verified\n"
          ]
        }
      ]
    },
    {
      "cell_type": "code",
      "source": [
        "device = torch.device(\"cuda:0\" if torch.cuda.is_available() else \"cpu\")\n",
        "print(f\"Using device: {device}\")"
      ],
      "metadata": {
        "colab": {
          "base_uri": "https://localhost:8080/"
        },
        "id": "mxwkm4mWnG-C",
        "outputId": "b5e4163e-6103-4c0f-e049-aca5a0d8381c"
      },
      "execution_count": null,
      "outputs": [
        {
          "output_type": "stream",
          "name": "stdout",
          "text": [
            "Using device: cuda:0\n"
          ]
        }
      ]
    },
    {
      "cell_type": "code",
      "source": [
        "model.to(device)"
      ],
      "metadata": {
        "colab": {
          "base_uri": "https://localhost:8080/"
        },
        "id": "aYDN8T_pnJrF",
        "outputId": "76b7b0e5-5a15-462b-9c6b-8bfa2aa87b05"
      },
      "execution_count": null,
      "outputs": [
        {
          "output_type": "execute_result",
          "data": {
            "text/plain": [
              "SimpleCNN(\n",
              "  (conv1): Conv2d(3, 64, kernel_size=(3, 3), stride=(1, 1), padding=(1, 1))\n",
              "  (relu): ReLU()\n",
              "  (pool): MaxPool2d(kernel_size=2, stride=2, padding=0, dilation=1, ceil_mode=False)\n",
              "  (fc1): Linear(in_features=16384, out_features=10, bias=True)\n",
              ")"
            ]
          },
          "metadata": {},
          "execution_count": 9
        }
      ]
    },
    {
      "cell_type": "markdown",
      "source": [
        "Kiến trúc của mô hình"
      ],
      "metadata": {
        "id": "Y8Susu2sWo7n"
      }
    },
    {
      "cell_type": "code",
      "source": [
        "from torchsummary import summary\n",
        "summary(model, (3, 32, 32))"
      ],
      "metadata": {
        "id": "CAPlER45ruC7",
        "outputId": "7dfe0bd5-dd3a-4847-ae54-36ff32f8539d",
        "colab": {
          "base_uri": "https://localhost:8080/"
        }
      },
      "execution_count": null,
      "outputs": [
        {
          "output_type": "stream",
          "name": "stdout",
          "text": [
            "----------------------------------------------------------------\n",
            "        Layer (type)               Output Shape         Param #\n",
            "================================================================\n",
            "            Conv2d-1           [-1, 64, 32, 32]           1,792\n",
            "              ReLU-2           [-1, 64, 32, 32]               0\n",
            "         MaxPool2d-3           [-1, 64, 16, 16]               0\n",
            "            Linear-4                   [-1, 10]         163,850\n",
            "================================================================\n",
            "Total params: 165,642\n",
            "Trainable params: 165,642\n",
            "Non-trainable params: 0\n",
            "----------------------------------------------------------------\n",
            "Input size (MB): 0.01\n",
            "Forward/backward pass size (MB): 1.13\n",
            "Params size (MB): 0.63\n",
            "Estimated Total Size (MB): 1.77\n",
            "----------------------------------------------------------------\n"
          ]
        }
      ]
    },
    {
      "cell_type": "code",
      "source": [
        "# TODO 9: Khởi tạo hàm mất mát\n",
        "criterion = nn.CrossEntropyLoss()\n",
        "# TODO 10: Cài đặt thuật toán Adam\n",
        "optimizer = optim.AdamW(\n",
        "    params=model.parameters(),\n",
        "    lr=0.001,\n",
        "    betas=(0.9, 0.999),\n",
        "    eps=1e-8,\n",
        "    weight_decay=0.01\n",
        ")\n",
        "\n",
        "num_epochs = 5\n",
        "\n",
        "for epoch in range(num_epochs):\n",
        "    # Training loop\n",
        "    model.train()\n",
        "    for images, labels in train_loader:\n",
        "        images, labels = images.to(device), labels.to(device)\n",
        "        optimizer.zero_grad()\n",
        "        outputs = model(images)\n",
        "        loss = criterion(outputs, labels)\n",
        "        loss.backward()\n",
        "        optimizer.step()\n",
        "\n",
        "    # Validation loop\n",
        "    model.eval()\n",
        "    with torch.no_grad():\n",
        "        total_val_loss = 0\n",
        "        total_val_samples = 0\n",
        "        for val_images, val_labels in test_loader:\n",
        "            val_images, val_labels = val_images.to(device), val_labels.to(device)\n",
        "            val_outputs = model(val_images)\n",
        "            val_loss = criterion(val_outputs, val_labels)\n",
        "            total_val_loss += val_loss.item() * val_labels.size(0)\n",
        "            total_val_samples += val_labels.size(0)\n",
        "\n",
        "        average_val_loss = total_val_loss / total_val_samples\n",
        "        print(f'Epoch [{epoch + 1}/{num_epochs}], Training Loss: {loss.item():.4f}, Validation Loss: {average_val_loss:.4f}')"
      ],
      "metadata": {
        "colab": {
          "base_uri": "https://localhost:8080/"
        },
        "id": "t8mesQG8gCmY",
        "outputId": "260fc71f-8b96-4657-e353-a547e6a9f11e"
      },
      "execution_count": null,
      "outputs": [
        {
          "output_type": "stream",
          "name": "stdout",
          "text": [
            "Epoch [1/5], Training Loss: 0.4849, Validation Loss: 1.0777\n",
            "Epoch [2/5], Training Loss: 0.4338, Validation Loss: 1.0919\n",
            "Epoch [3/5], Training Loss: 0.6741, Validation Loss: 1.0946\n",
            "Epoch [4/5], Training Loss: 0.6556, Validation Loss: 1.1427\n",
            "Epoch [5/5], Training Loss: 0.1925, Validation Loss: 1.1303\n"
          ]
        }
      ]
    },
    {
      "cell_type": "markdown",
      "source": [
        "Kết quả mong đợi (Tương đối):\n",
        "```python\n",
        "Epoch [1/5], Training Loss: 0.6830, Validation Loss: 1.0610\n",
        "Epoch [2/5], Training Loss: 1.3805, Validation Loss: 1.0449\n",
        "Epoch [3/5], Training Loss: 0.5339, Validation Loss: 1.0223\n",
        "Epoch [4/5], Training Loss: 0.2034, Validation Loss: 1.0707\n",
        "Epoch [5/5], Training Loss: 0.3317, Validation Loss: 1.0935\n",
        "```"
      ],
      "metadata": {
        "id": "gtOWNWbPhJpy"
      }
    },
    {
      "cell_type": "code",
      "source": [
        "\n",
        "model.eval()\n",
        "correct, total = 0, 0\n",
        "\n",
        "with torch.no_grad():\n",
        "    for images, labels in test_loader:\n",
        "        images, labels = images.to(device), labels.to(device)\n",
        "        outputs = model(images)\n",
        "        _, predicted = torch.max(outputs.data, 1)\n",
        "        total += labels.size(0)\n",
        "        correct += (predicted == labels).sum().item()\n",
        "\n",
        "accuracy = correct / total\n",
        "print(f'Test Accuracy: {100 * accuracy:.2f}%')\n"
      ],
      "metadata": {
        "colab": {
          "base_uri": "https://localhost:8080/"
        },
        "id": "punfBkppd6Br",
        "outputId": "30d17732-b7df-40f3-fc2d-f204e24e17e2"
      },
      "execution_count": null,
      "outputs": [
        {
          "output_type": "stream",
          "name": "stdout",
          "text": [
            "Test Accuracy: 66.51%\n"
          ]
        }
      ]
    },
    {
      "cell_type": "markdown",
      "source": [
        "Kết quả mong đợi:\n",
        "\n",
        "`Test Accuracy lớn hơn 66%`"
      ],
      "metadata": {
        "id": "KK4s_zg6e-Uq"
      }
    },
    {
      "cell_type": "markdown",
      "source": [
        "### 2. Lập trình mô hình VGG\n",
        "Để cải thiện chất lượng trên tập dữ liệu này, chúng ta sẽ sửa dụng Pretrained với Pytorch. Mô hình sử dụng sẽ là VGG 16, dùng toàn lại bộ tham số chỉ thay duy nhất lớp phân loại cuối cùng theo số lượng nhãn của bài toán.\n",
        "\n",
        "Lập trình lớp VGG16Trainer với các hàm sau\n",
        "- Hàm khởi tạo:\n",
        "    - Tham số:\n",
        "        - trainloader: Data train\n",
        "        - testloader: Data test\n",
        "        - num_classes=10\n",
        "        - lr: Tốc độ học\n",
        "        - momentum: Quán trính cho thuật toán SGD với Momentum\n",
        "        - num_epochs: Số lượng epoch\n",
        "- Hàm train\n",
        "    - Lặp qua các epoch và training mô hình\n",
        "- Hàm evaluate\n",
        "    - Đánh giá chất lượng hiện tại của mô hình"
      ],
      "metadata": {
        "id": "cCyekA3Ahi_B"
      }
    },
    {
      "cell_type": "code",
      "source": [
        "import torch\n",
        "import torchvision\n",
        "import torchvision.transforms as transforms\n",
        "from torchvision import models\n",
        "\n",
        "class VGG16Trainer:\n",
        "    def __init__(self, trainloader, testloader, num_classes=10, lr=0.001, momentum=0.9, num_epochs=20):\n",
        "        self.trainloader = trainloader\n",
        "        self.testloader = testloader\n",
        "        self.num_epochs = num_epochs\n",
        "        self.device = torch.device(\"cuda:0\" if torch.cuda.is_available() else \"cpu\")\n",
        "\n",
        "        # TODO 11: Load pre train VGG 16\n",
        "        self.model = models.vgg16(pretrained=True)\n",
        "        # TODO 12: Thay thế lớp phân loại cuối cùng của mô hình\n",
        "        self.model.classifier[-1] = torch.nn.Linear(self.model.classifier[-1].in_features, num_classes)\n",
        "\n",
        "        self.model.to(self.device)\n",
        "        # self.model = None\n",
        "\n",
        "        self.criterion = torch.nn.CrossEntropyLoss()\n",
        "        # TODO 13: Cài đặt thuật toán SGD với momentum\n",
        "        self.optimizer = optim.SGD(self.model.parameters(), lr=0.0001, momentum=momentum, weight_decay=0.0005)\n",
        "\n",
        "    def train(self):\n",
        "        # Tiến hành training\n",
        "        self.model.train()\n",
        "        for epoch in range(self.num_epochs):\n",
        "            running_loss = 0.0\n",
        "            for i, data in enumerate(self.trainloader, 0):\n",
        "                inputs, labels = data[0].to(self.device), data[1].to(self.device)\n",
        "\n",
        "                self.optimizer.zero_grad()\n",
        "                outputs = self.model(inputs)\n",
        "                loss = self.criterion(outputs, labels)\n",
        "                loss.backward()\n",
        "                self.optimizer.step()\n",
        "\n",
        "                running_loss += loss.item()\n",
        "            if epoch % 2 == 1:\n",
        "                print(f\"{epoch + 1}, {i + 1}] loss: {running_loss / 2000:.3f}\")\n",
        "                running_loss = 0.0\n",
        "\n",
        "        print('Finished Training')\n",
        "        # Lưu mô hình\n",
        "        PATH = './cifar_vgg16.pth'\n",
        "        torch.save(self.model.state_dict(), PATH)\n",
        "\n",
        "    def evaluate(self):\n",
        "        self.model.eval()\n",
        "        correct = 0\n",
        "        total = 0\n",
        "        with torch.no_grad():\n",
        "            for data in self.testloader:\n",
        "                images, labels = data[0].to(self.device), data[1].to(self.device)\n",
        "                outputs = self.model(images)\n",
        "                _, predicted = torch.max(outputs.data, 1)\n",
        "                total += labels.size(0)\n",
        "                correct += (predicted == labels).sum().item()\n",
        "\n",
        "        accuracy = 100 * correct / total\n",
        "        print(f'Độ chính xác mô hình: {accuracy}%')\n",
        "        return accuracy\n",
        "\n",
        "trainer = VGG16Trainer(train_loader, test_loader, num_classes=10, lr=0.001, momentum=0.9, num_epochs=20)\n",
        "\n",
        "# TODO 14: Tiến hành đào tạo mô hình\n",
        "trainer.train()"
      ],
      "metadata": {
        "colab": {
          "base_uri": "https://localhost:8080/"
        },
        "id": "dmWC6iHPcH7m",
        "outputId": "07f0d1ae-96cf-4a38-8674-4953b36c133f"
      },
      "execution_count": null,
      "outputs": [
        {
          "output_type": "stream",
          "name": "stdout",
          "text": [
            "2, 782] loss: 0.279\n",
            "4, 782] loss: 0.208\n",
            "6, 782] loss: 0.173\n",
            "8, 782] loss: 0.146\n",
            "10, 782] loss: 0.126\n",
            "12, 782] loss: 0.108\n",
            "14, 782] loss: 0.093\n",
            "16, 782] loss: 0.079\n",
            "18, 782] loss: 0.066\n",
            "20, 782] loss: 0.055\n",
            "Finished Training\n"
          ]
        }
      ]
    },
    {
      "cell_type": "code",
      "source": [
        "# Đánh giá chất lượng mô hình\n",
        "trainer.evaluate()"
      ],
      "metadata": {
        "id": "ASO8F11me_Y-",
        "colab": {
          "base_uri": "https://localhost:8080/"
        },
        "outputId": "1dc9bea6-3ade-405c-8135-bef70713ed9b"
      },
      "execution_count": null,
      "outputs": [
        {
          "output_type": "stream",
          "name": "stdout",
          "text": [
            "Độ chính xác mô hình: 85.4%\n"
          ]
        },
        {
          "output_type": "execute_result",
          "data": {
            "text/plain": [
              "85.4"
            ]
          },
          "metadata": {},
          "execution_count": 28
        }
      ]
    },
    {
      "cell_type": "markdown",
      "source": [
        "Kết quả mong đợi:\n",
        "\n",
        "`Test Accuracy lớn hơn 85%`"
      ],
      "metadata": {
        "id": "elDzBksLd0N5"
      }
    }
  ]
}